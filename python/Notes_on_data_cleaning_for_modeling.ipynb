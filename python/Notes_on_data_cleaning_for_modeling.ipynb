{
 "cells": [
  {
   "cell_type": "markdown",
   "id": "5a588aef",
   "metadata": {},
   "source": [
    "# Notes on cleaning the UK Road Safety Data (2016-2020)"
   ]
  },
  {
   "cell_type": "code",
   "execution_count": 1,
   "id": "c1a4302f",
   "metadata": {},
   "outputs": [],
   "source": [
    "# Rows with 'Unknown', 'data missing', 'unclassified' are cleaned in the three data frames\n",
    "        #to be used in the mashine learning model. \n",
    "        #The rightmost annnotations on each line below are the actions to be performed (e.g: LEAVE AS IS) \n",
    "    \n",
    "# Dataframes: accident_df, vehicle_df, casualty_df\n"
   ]
  },
  {
   "cell_type": "code",
   "execution_count": 2,
   "id": "d077f2b4",
   "metadata": {},
   "outputs": [],
   "source": [
    "# All dataframes: # -1 in the columns denotes 'Data missing or out of range'."
   ]
  },
  {
   "cell_type": "markdown",
   "id": "49df5060",
   "metadata": {},
   "source": [
    "## accident_df"
   ]
  },
  {
   "cell_type": "code",
   "execution_count": 3,
   "id": "d03c8a27",
   "metadata": {},
   "outputs": [],
   "source": [
    "\n",
    "# All columns with -1 and unspecified information which needs data preparation efforts:\n",
    "\n",
    "#Accident\tfirst_road_class\t6\tUnclassified\t\t\t\t\t LEAVE AS IS\n",
    "\n",
    "#Accident\troad_type\t-1\tData missing or out of range\t\t\t\t\t (replace with 6) MODE\n",
    "#Accident\troad_type\t9\tUnknown\t\t\t\t\t (replace with 6) MODE\n",
    "\n",
    "#Accident\tspeed_limit\t-1\tData missing or out of range\t\t\t\t\t (replace with 30.0) MODE\n",
    "#Accident\tspeed_limit\tNaN\tData missing or out of range\t\t\t\t\t (replace with 30.0) MODE\n",
    "\n",
    "#Accident\tjunction_detail\t-1\tData missing or out of range\t\t\t\t\t MODE\n",
    "#Accident\tjunction_detail\t9\tOther junction\t\t\t\t\t LEAVE AS IS\n",
    "#Accident\tjunction_detail\t99\tunknown (self reported)\t\t\t\t\t MODE \n",
    "\n",
    "#Accident\tjunction_control\t-1\tData missing or out of range\t\t\t\t\t MODE\n",
    "#Accident\tjunction_control\t9\tunknown (self reported)\t\t\t\t\t MODE\n",
    "\n",
    "#Accident\tsecond_road_class\t6\tUnclassified\t\t\t\t\t LEAVE AS IS\n",
    "#Accident\tsecond_road_class\t-1 --- replace with 6\n",
    "#Accident\tsecond_road_class\t9 --- replace with 6\n",
    "\n",
    "#Accident\tpedestrian_crossing_human_control\t-1\tData missing or out of range\t\t\t\t\t (replace with 0) MODE\n",
    "#Accident\tpedestrian_crossing_human_control\t9\tunknown (self reported)\t\t\t\t\t (replace with 0) MODE\n",
    "\n",
    "#Accident\tpedestrian_crossing_physical_facilities\t-1\tData missing or out of range\t\t\t\t\t (replace with 0) MODE\n",
    "#Accident\tpedestrian_crossing_physical_facilities\t9\tunknown (self reported)\t\t\t\t\t (replace with 0) MODE\n",
    "\n",
    "#Accident\tweather_conditions\t-1\tData missing or out of range\t\t\t\t\t (replace with 1) MODE\n",
    "#Accident\tweather_conditions\t8\tOther\t\t\t\t\t LEAVE AS IS\n",
    "#Accident\tweather_conditions\t9\tUnknown\t\t\t\t\t (replace with 1) MODE\n",
    "\n",
    "#Accident\troad_surface_conditions\t-1\tData missing or out of range\t\t\t\t\t (replace with 1) MODE\n",
    "#Accident\troad_surface_conditions\t9\tunknown (self reported)\t\t\t\t\t (replace with 1) MODE\n",
    "\n",
    "#Accident\tspecial_conditions_at_site\t-1\tData missing or out of range\t\t\t\t\t (replace with 0) MODE\n",
    "#Accident\tspecial_conditions_at_site\t9\tunknown (self reported)\t\t\t\t\t (replace with 0) MODE\n",
    "\n",
    "#Accident\tcarriageway_hazards\t-1\tData missing or out of range\t\t\t\t\t (replace with 0) MODE\n",
    "#Accident\tcarriageway_hazards\t9\tunknown (self reported)\t\t\t\t\t (replace with 0) MODE\n",
    "\n",
    "#Accident\turban_or_rural_area\t3\tUnallocated\tfield introduced in 1994\t\t\t\t (replace with 1) MODE\n",
    "#Accident\turban_or_rural_area\t-1\tData missing or out of range\tfield introduced in 1994\t\t\t\t (replace with 1) MODE\n",
    "\n",
    "#Accident\ttrunk_road_flag\t-1\tData missing or out of range\t\t\t\t\t (replace with 2) MODE\n",
    "\n"
   ]
  },
  {
   "cell_type": "markdown",
   "id": "62412b61",
   "metadata": {},
   "source": [
    "## vehicle_df"
   ]
  },
  {
   "cell_type": "code",
   "execution_count": 4,
   "id": "13e70d3e",
   "metadata": {},
   "outputs": [],
   "source": [
    "#Vehicle\tvehicle_type\t-1\tData missing or out of range\t\t\t\t\t MODE\n",
    "#Vehicle\tvehicle_type\t90\tOther vehicle\tcateogry introduced in 2011 specification\t\t\t\t LEAVE AS IS\n",
    "#Vehicle\tvehicle_type\t99\tUnknown vehicle type (self rep only)\tcateogry introduced in 2011 specification\t\t\t\t MODE\n",
    "\n",
    "#Vehicle\ttowing_and_articulation\t-1\tData missing or out of range\t\t\t\t\t MODE\n",
    "#Vehicle\ttowing_and_articulation\t9\tunknown (self reported)\t\t\t\t\t MODE\n",
    "\n",
    "#Vehicle\tvehicle_manoeuvre\t-1\tData missing or out of range\t\t\t\t\t MODE\n",
    "#Vehicle\tvehicle_manoeuvre\t99\tunknown (self reported)\t\t\t\t\t MODE\n",
    "\n",
    "#Vehicle\tvehicle_direction_from\t-1 ---(replace with 1) MODE\n",
    "#Vehicle\tvehicle_direction_from\t9\tunknown (self reported)\tboth vehicle_direction_from and vehicle_direction_to should be 9\t\t\t\t ---(replace with 1) MODE\n",
    "\n",
    "##Vehicle\tvehicle_direction_to\t-1 ---(replace with 1). note: 1 is not the mode here but I am following the same step in vehicle_direction_from. 1 and 5 (5 is mode) has very close.\n",
    "#Vehicle\tvehicle_direction_to\t9\tunknown (self reported)\tboth vehicle_direction_from and vehicle_direction_to should be 9\t\t\t\t ---(replace with 1).\n",
    "\n",
    "#Vehicle\tvehicle_location_restricted_lane\t-1\tData missing or out of range\t\t\t\t\t MODE\n",
    "#Vehicle\tvehicle_location_restricted_lane\t99\tunknown (self reported)\t\t\t\t\t MODE\n",
    "\n",
    "#Vehicle\tjunction_location\t-1\tData missing or out of range\t\t\t\t\t MODE\n",
    "#Vehicle\tjunction_location\t9\tunknown (self reported)\t\t\t\t\tMODE\n",
    "\n",
    "#Vehicle\tskidding_and_overturning\t-1\tData missing or out of range\t\t\t\t\tMODE\n",
    "#Vehicle\tskidding_and_overturning\t9\tunknown (self reported)\t\t\t\t\tMODE\n",
    "\n",
    "#Vehicle\thit_object_in_carriageway\t-1\tData missing or out of range\t\t\t\t\tMODE\n",
    "#Vehicle\thit_object_in_carriageway\t99\tunknown (self reported)\t\t\t\t\tMODE\n",
    "\n",
    "#Vehicle\tvehicle_leaving_carriageway\t-1\tData missing or out of range\t\t\t\t\tMODE\n",
    "#Vehicle\tvehicle_leaving_carriageway\t9\tunknown (self reported)\t\t\t\t\tMODE\n",
    "\n",
    "#Vehicle\thit_object_off_carriageway\t-1\tData missing or out of range\t\t\t\t\tMODE\n",
    "#Vehicle\thit_object_off_carriageway\t99\tunknown (self reported)\t\t\t\t\tMODE\n",
    "\n",
    "#Vehicle\tfirst_point_of_impact\t-1\tData missing or out of range\t\t\t\t\tMODE\n",
    "#Vehicle\tfirst_point_of_impact\t9\tunknown (self reported)\t\t\t\t\tMODE\n",
    "\n",
    "#Vehicle\tvehicle_left_hand_drive\t-1\tData missing or out of range\t\t\t\t\tMODE\n",
    "#Vehicle\tvehicle_left_hand_drive\t9\tUnknown\t\t\t\t\tMODE\n",
    "\n",
    "#Vehicle\tjourney_purpose_of_driver\t5\tOther\t\t\t\t\t\n",
    "#Vehicle\tjourney_purpose_of_driver\t6\tNot known\t\t\t\t\t replace with 5\n",
    "#Vehicle\tjourney_purpose_of_driver\t-1\tData missing or out of range\t\t\t\t\t replace with 5\n",
    "\n",
    "#Vehicle\tsex_of_driver\t3\tNot known\t\t\t\t\t MODE\n",
    "#Vehicle\tsex_of_driver\t-1\tData missing or out of range\t\t\t\t\t MODE\n",
    "\n",
    "#Vehicle\tage_band_of_driver\t-1\tData missing or out of range\t\t\t\t\t MODE\n",
    "\n",
    "#Vehicle\tengine_capacity_cc\t-1\tData missing or out of range\t\t\t\t\t MEAN\n",
    "\n",
    "#Vehicle\tpropulsion_code\t-1\tUndefined\t\t\t\t\t replace -1 and 2 with 1 \n",
    "\n",
    "#Vehicle\tgeneric_make_model\t-1\tData missing or out of range\tfield introduced in 2020\t\t\t\t Put -1 here in the OTHER class. \n",
    "\n",
    "#Vehicle\tdriver_imd_decile\t-1\tData missing or out of range\tfield introduced in 2016\t\t\t\t MODE (filling with machine learning can be considered)\n",
    "\n",
    "#Vehicle\tdriver_home_area_type\t-1\tData missing or out of range\tfield introduced in 1999\t\t\t\tMODE (filling with machine learning can be considered)\n"
   ]
  },
  {
   "cell_type": "markdown",
   "id": "c79da9f8",
   "metadata": {},
   "source": [
    "## casualty_df"
   ]
  },
  {
   "cell_type": "code",
   "execution_count": null,
   "id": "65399fe7",
   "metadata": {},
   "outputs": [],
   "source": [
    "#Casualty\tsex_of_casualty\t9\tunknown (self reported)\t\t\t\t\t MODE\n",
    "#Casualty\tsex_of_casualty\t-1\tData missing or out of range\t\t\t\t\t MODE\n",
    "\n",
    "#Casualty\tage_band_of_casualty\t-1\tData missing or out of range\t\t\t\t\t MODE\n",
    "\n",
    "#Casualty\tpedestrian_location\t10\tUnknown or other\t\t\t\t\tMODE\n",
    "#Casualty\tpedestrian_location\t-1\tData missing or out of range\t\t\t\t\tMODE\n",
    "\n",
    "#Casualty\tpedestrian_movement\t-1\tData missing or out of range\t\t\t\t\tMODE\n",
    "#Casualty\tpedestrian_movement\t9\tUnknown or other\t\t\t\t\tMODE\n",
    "\n",
    "\n",
    "#Casualty\tcar_passenger\t-1\tData missing or out of range\t\t\t\t\tMODE\n",
    "#Casualty\tcar_passenger\t9\tunknown (self reported)\t\t\t\t\tMODE\n",
    "\n",
    "#Casualty\tbus_or_coach_passenger\t-1\tData missing or out of range\t\t\t\t\tMODE\n",
    "#Casualty\tbus_or_coach_passenger\t9\tunknown (self reported)\t\t\t\t\tMODE\n",
    "\n",
    "#Casualty\tpedestrian_road_maintenance_worker\t2\tNot Known\t\t\t\t\tMODE\n",
    "#Casualty\tpedestrian_road_maintenance_worker\t-1\tData missing or out of range\t\t\t\t\tMODE\n",
    "\n",
    "#Casualty\tcasualty_type\t-1 --- MODE\n",
    "#Casualty\tcasualty_type\t99\tUnknown vehicle type (self rep only)\tintroduced in 2011 specification -- MODE\n",
    "\n",
    "#Casualty\tcasualty_imd_decile\t-1\tData missing or out of range\tfield introduced in 2016\t\t\t\t MODE (filling with machine learning can be considered)\n",
    "\n",
    "#Casualty\tcasualty_home_area_type\t-1\tData missing or out of range\tfield introduced in 1999\t\t\t\t MODE (filling with machine learning can be considered)\n"
   ]
  }
 ],
 "metadata": {
  "kernelspec": {
   "display_name": "Python 3 (ipykernel)",
   "language": "python",
   "name": "python3"
  },
  "language_info": {
   "codemirror_mode": {
    "name": "ipython",
    "version": 3
   },
   "file_extension": ".py",
   "mimetype": "text/x-python",
   "name": "python",
   "nbconvert_exporter": "python",
   "pygments_lexer": "ipython3",
   "version": "3.9.12"
  },
  "toc": {
   "base_numbering": 1,
   "nav_menu": {},
   "number_sections": true,
   "sideBar": true,
   "skip_h1_title": false,
   "title_cell": "Table of Contents",
   "title_sidebar": "Contents",
   "toc_cell": false,
   "toc_position": {},
   "toc_section_display": true,
   "toc_window_display": false
  }
 },
 "nbformat": 4,
 "nbformat_minor": 5
}
