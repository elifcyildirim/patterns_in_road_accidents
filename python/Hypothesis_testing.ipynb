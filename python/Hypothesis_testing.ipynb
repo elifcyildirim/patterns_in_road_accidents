{
 "cells": [
  {
   "cell_type": "markdown",
   "id": "2e5af0ce",
   "metadata": {},
   "source": [
    "# Hypothesis testing"
   ]
  },
  {
   "cell_type": "code",
   "execution_count": 1,
   "id": "01962e9b",
   "metadata": {},
   "outputs": [],
   "source": [
    "#main\n",
    "import pandas as pd\n",
    "import numpy as np\n",
    "import math\n",
    "import sklearn\n",
    "import re\n",
    "\n",
    "#graphic\n",
    "import matplotlib\n",
    "import matplotlib.pyplot as plt\n",
    "import seaborn as sns \n",
    "%matplotlib inline"
   ]
  },
  {
   "cell_type": "code",
   "execution_count": 2,
   "id": "d6e16b92",
   "metadata": {},
   "outputs": [],
   "source": [
    "pd.set_option('display.max_columns', None)\n",
    "pd.set_option('display.max_rows', None)"
   ]
  },
  {
   "cell_type": "code",
   "execution_count": 3,
   "id": "d308b3dc",
   "metadata": {},
   "outputs": [],
   "source": [
    "import warnings\n",
    "warnings.filterwarnings(\"ignore\")"
   ]
  },
  {
   "cell_type": "code",
   "execution_count": 4,
   "id": "28a46048",
   "metadata": {},
   "outputs": [],
   "source": [
    "raw_df = pd.read_csv('Veh_Acc_untreated.csv')"
   ]
  },
  {
   "cell_type": "code",
   "execution_count": 5,
   "id": "4cdf75e4",
   "metadata": {},
   "outputs": [],
   "source": [
    "# Hypothesis testing of the average age of vehicles in the UK in 2020"
   ]
  },
  {
   "cell_type": "code",
   "execution_count": 6,
   "id": "72048837",
   "metadata": {},
   "outputs": [
    {
     "data": {
      "text/plain": [
       "(167375, 1)"
      ]
     },
     "execution_count": 6,
     "metadata": {},
     "output_type": "execute_result"
    }
   ],
   "source": [
    "raw_df_2020 = raw_df[raw_df.accident_year == 2020]\n",
    "age_df_2020= raw_df_2020[['age_of_vehicle']]\n",
    "\n",
    "age_df_2020.shape"
   ]
  },
  {
   "cell_type": "code",
   "execution_count": 7,
   "id": "f1a62438",
   "metadata": {},
   "outputs": [
    {
     "data": {
      "text/plain": [
       "(124303, 1)"
      ]
     },
     "execution_count": 7,
     "metadata": {},
     "output_type": "execute_result"
    }
   ],
   "source": [
    "age_df_2020.replace(-1, np.nan, inplace=True)\n",
    "age_df_2020.dropna(inplace=True)\n",
    "age_df_2020.shape\n"
   ]
  },
  {
   "cell_type": "code",
   "execution_count": 8,
   "id": "ef71e8de",
   "metadata": {},
   "outputs": [
    {
     "data": {
      "text/plain": [
       "age_of_vehicle    float64\n",
       "dtype: object"
      ]
     },
     "execution_count": 8,
     "metadata": {},
     "output_type": "execute_result"
    }
   ],
   "source": [
    "age_df_2020.dtypes"
   ]
  },
  {
   "cell_type": "code",
   "execution_count": 9,
   "id": "f4f097d5",
   "metadata": {},
   "outputs": [],
   "source": [
    "## In the UK, the average age of cars in 2020 was reported to be 8.6 (no matter it was \n",
    "    # involved in an accident or not). Source: \n",
    "    # https://www.nimblefins.co.uk/cheap-car-insurance/average-age-cars-great-britain\n",
    "    \n",
    "    #We will test whether the mean age of vehicles that are involved in accidents are \n",
    "        # significantly different from the population mean of vehicle age. Remember that the vehicles that are\n",
    "        # involved in the accidents are a sample of this population.\n",
    "\n",
    "# Two-sided test: (test for equality/inequality)\n",
    "# H0: mean age of a vehicle that have been in an accident = 8.6 years\n",
    "# Alternative hyp or H1: mean age != 8.6 years\n"
   ]
  },
  {
   "cell_type": "code",
   "execution_count": 10,
   "id": "d16a1c16",
   "metadata": {},
   "outputs": [
    {
     "data": {
      "image/png": "[encoded data removed]",
      "text/plain": [
       "<Figure size 432x288 with 1 Axes>"
      ]
     },
     "metadata": {
      "needs_background": "light"
     },
     "output_type": "display_data"
    }
   ],
   "source": [
    "sns.distplot(age_df_2020['age_of_vehicle'])\n",
    "plt.show()"
   ]
  },
  {
   "cell_type": "code",
   "execution_count": 11,
   "id": "e2cf6279",
   "metadata": {},
   "outputs": [
    {
     "data": {
      "text/plain": [
       "8.183993950266688"
      ]
     },
     "execution_count": 11,
     "metadata": {},
     "output_type": "execute_result"
    }
   ],
   "source": [
    "age_df_2020['age_of_vehicle'].mean()"
   ]
  },
  {
   "cell_type": "code",
   "execution_count": 12,
   "id": "9b048322",
   "metadata": {},
   "outputs": [],
   "source": [
    "from scipy.stats import ttest_1samp\n",
    "\n",
    "stat, pval = ttest_1samp(age_df_2020['age_of_vehicle'], 8.6)"
   ]
  },
  {
   "cell_type": "code",
   "execution_count": 13,
   "id": "ed824c7f",
   "metadata": {},
   "outputs": [
    {
     "name": "stdout",
     "output_type": "stream",
     "text": [
      "stat is   -25.814879353433398\n",
      "pvalue for the two-tailed test is  1.4738334919825828e-146\n"
     ]
    }
   ],
   "source": [
    "print('stat is  ', stat)\n",
    "print('pvalue for the two-tailed test is ', pval)"
   ]
  },
  {
   "cell_type": "code",
   "execution_count": 14,
   "id": "bb141cfc",
   "metadata": {},
   "outputs": [],
   "source": [
    "# p value is low, null must. We reject Ho.\n",
    "\n",
    "#negative sign in stat: tells that the true value of the population mean is likely to be below 8.6 years.\n"
   ]
  }
 ],
 "metadata": {
  "kernelspec": {
   "display_name": "Python 3 (ipykernel)",
   "language": "python",
   "name": "python3"
  },
  "language_info": {
   "codemirror_mode": {
    "name": "ipython",
    "version": 3
   },
   "file_extension": ".py",
   "mimetype": "text/x-python",
   "name": "python",
   "nbconvert_exporter": "python",
   "pygments_lexer": "ipython3",
   "version": "3.9.12"
  },
  "toc": {
   "base_numbering": 1,
   "nav_menu": {},
   "number_sections": true,
   "sideBar": true,
   "skip_h1_title": false,
   "title_cell": "Table of Contents",
   "title_sidebar": "Contents",
   "toc_cell": false,
   "toc_position": {},
   "toc_section_display": true,
   "toc_window_display": true
  }
 },
 "nbformat": 4,
 "nbformat_minor": 5
}
